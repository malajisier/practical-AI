{
 "cells": [
  {
   "cell_type": "markdown",
   "metadata": {},
   "source": [
    "### 1. 定义函数   \n",
    "使用def语句，依次写出`函数名、括号、括号中的参数和冒号:`   \n",
    "然后，在缩进块中编写函数体，函数的返回值用return语句返回    \n",
    "  \n",
    "*可变参数和关键字参数的语法：*  \n",
    "`*args`是可变参数，args接收的是一个tuple  \n",
    "`**kw`是关键字参数，kw接收的是一个dict。\n",
    "\n",
    "以及调用函数时如何传入可变参数和关键字参数的语法：   \n",
    "可变参数既可以直接传入：`func(1, 2, 3)`，又可以先组装list或tuple，再通过`*args`传入：`func(*(1, 2, 3))`    \n",
    "关键字参数既可以直接传入：`func(a=1, b=2)`，又可以先组装dict，再通过`**kw`传入：`func(**{'a': 1, 'b': 2})`"
   ]
  },
  {
   "cell_type": "code",
   "execution_count": 1,
   "metadata": {},
   "outputs": [
    {
     "name": "stdout",
     "output_type": "stream",
     "text": [
      "product(5) = 5\n",
      "product(5, 6) = 30\n",
      "product(5, 6, 7) = 210\n",
      "product(5, 6, 7, 9) = 1890\n",
      "测试成功!\n"
     ]
    }
   ],
   "source": [
    "def product(*args):\n",
    "    if len(args) == 0:\n",
    "        raise TypeError('Empty input')\n",
    "    sum = 1\n",
    "    for num in args:\n",
    "        sum = num * sum\n",
    "    return sum\n",
    "\n",
    "# 测试\n",
    "print('product(5) =', product(5))\n",
    "print('product(5, 6) =', product(5, 6))\n",
    "print('product(5, 6, 7) =', product(5, 6, 7))\n",
    "print('product(5, 6, 7, 9) =', product(5, 6, 7, 9))\n",
    "if product(5) != 5:\n",
    "    print('测试失败!')\n",
    "elif product(5, 6) != 30:\n",
    "    print('测试失败!')\n",
    "elif product(5, 6, 7) != 210:\n",
    "    print('测试失败!')\n",
    "elif product(5, 6, 7, 9) != 1890:\n",
    "    print('测试失败!')\n",
    "else:\n",
    "    try:\n",
    "        product()\n",
    "        print('测试失败!')\n",
    "    except TypeError:\n",
    "        print('测试成功!')"
   ]
  },
  {
   "cell_type": "markdown",
   "metadata": {},
   "source": [
    "## 2. 递归函数   \n"
   ]
  },
  {
   "cell_type": "code",
   "execution_count": 3,
   "metadata": {},
   "outputs": [
    {
     "name": "stdout",
     "output_type": "stream",
     "text": [
      "A --> C\n",
      "A --> B\n",
      "C --> B\n",
      "A --> C\n",
      "B --> A\n",
      "B --> C\n",
      "A --> C\n"
     ]
    }
   ],
   "source": [
    "def move(n, a, b, c):\n",
    "    if n == 1:\n",
    "        print(a, '-->', c)\n",
    "    else:\n",
    "        move(n-1, a, c, b)\n",
    "        print(a, '-->', c)\n",
    "        move(n-1, b, a, c)\n",
    "        \n",
    "        \n",
    "# 期待输出:\n",
    "# A --> C\n",
    "# A --> B\n",
    "# C --> B\n",
    "# A --> C\n",
    "# B --> A\n",
    "# B --> C\n",
    "# A --> C\n",
    "move(3, 'A', 'B', 'C')"
   ]
  },
  {
   "cell_type": "code",
   "execution_count": null,
   "metadata": {},
   "outputs": [],
   "source": []
  }
 ],
 "metadata": {
  "kernelspec": {
   "display_name": "Python 3",
   "language": "python",
   "name": "python3"
  },
  "language_info": {
   "codemirror_mode": {
    "name": "ipython",
    "version": 3
   },
   "file_extension": ".py",
   "mimetype": "text/x-python",
   "name": "python",
   "nbconvert_exporter": "python",
   "pygments_lexer": "ipython3",
   "version": "3.7.3"
  },
  "toc": {
   "base_numbering": 1,
   "nav_menu": {},
   "number_sections": true,
   "sideBar": true,
   "skip_h1_title": false,
   "title_cell": "Table of Contents",
   "title_sidebar": "Contents",
   "toc_cell": false,
   "toc_position": {},
   "toc_section_display": true,
   "toc_window_display": false
  }
 },
 "nbformat": 4,
 "nbformat_minor": 2
}
