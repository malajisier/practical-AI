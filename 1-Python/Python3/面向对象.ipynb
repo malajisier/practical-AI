{
 "cells": [
  {
   "cell_type": "markdown",
   "metadata": {},
   "source": [
    "面向对象思想的三大要素：\n",
    "- 封装\n",
    "- 继承\n",
    "- 多态    \n",
    "  \n",
    "#### 较正式的解释   \n",
    "把一组数据结构和处理它们的方法组成对象（object），把相同行为的对象归纳为类（class），通过类的封装（encapsulation）隐藏内部细节，通过继承（inheritance）实现类的特化（specialization）和泛化（generalization），通过多态（polymorphism）实现基于对象类型的动态分派   \n",
    "  \n",
    "#### 访问可见性    \n",
    "Python中属性和方法的访问权限只有两种：公开和私有。   \n",
    "如果希望属性是私有的，在给属性命名时可以用两个下划线作为开头     \n",
    "  \n",
    "实际开发中，并不建议将属性设置为私有的，因为这会导致子类无法访问。所以一般会遵循一种命名惯例就是让属性名以单下划线开头来表示属性是受保护的，本类之外的代码在访问这样的属性时应该要保持慎重。    \n",
    "这种做法并不是语法上的规则，单下划线开头的属性和方法外界仍然是可以访问的，所以更多的时候它是一种暗示或隐喻    \n",
    "    \n",
    "#### `@property`装饰器     \n",
    "用来包装getter和setter方法，使得对属性的访问既安全又方便    \n",
    "   \n",
    "#### `__slot__魔法`    \n",
    "限定自定义类型的对象只能绑定某些属性，可以通过在类中定义`__slots__`变量来进行限定。需要注意的是`__slots__`的限定只对当前类的对象生效，对子类并不起任何作用   \n",
    "\n"
   ]
  },
  {
   "cell_type": "code",
   "execution_count": 3,
   "metadata": {},
   "outputs": [
    {
     "name": "stdout",
     "output_type": "stream",
     "text": [
      "QQ飞车游戏中\n",
      "QQ离线\n"
     ]
    }
   ],
   "source": [
    "class Person(object):\n",
    "    def __init__(self, name, age):\n",
    "        self._name = name\n",
    "        self._age = age\n",
    "\n",
    "    @property\n",
    "    def name(self):\n",
    "        return self._name\n",
    "\n",
    "    @property\n",
    "    def age(self):\n",
    "        return self._age\n",
    "\n",
    "    @age.setter\n",
    "    def age(self, age):\n",
    "        self._age = age\n",
    "    \n",
    "    def play(self):\n",
    "        if self._age > 10:\n",
    "            print('QQ飞车游戏中')   \n",
    "        else:\n",
    "            print('QQ离线')\n",
    "\n",
    "def main():\n",
    "    p = Person('Lilei', 12)\n",
    "    p.play()\n",
    "    \n",
    "    p.age = 10\n",
    "    p.play()\n",
    " \n",
    "\n",
    "if __name__ == '__main__':\n",
    "    main()"
   ]
  },
  {
   "cell_type": "code",
   "execution_count": null,
   "metadata": {},
   "outputs": [],
   "source": []
  }
 ],
 "metadata": {
  "kernelspec": {
   "display_name": "Python 3",
   "language": "python",
   "name": "python3"
  },
  "language_info": {
   "codemirror_mode": {
    "name": "ipython",
    "version": 3
   },
   "file_extension": ".py",
   "mimetype": "text/x-python",
   "name": "python",
   "nbconvert_exporter": "python",
   "pygments_lexer": "ipython3",
   "version": "3.7.3"
  },
  "toc": {
   "base_numbering": 1,
   "nav_menu": {},
   "number_sections": true,
   "sideBar": true,
   "skip_h1_title": false,
   "title_cell": "Table of Contents",
   "title_sidebar": "Contents",
   "toc_cell": false,
   "toc_position": {},
   "toc_section_display": true,
   "toc_window_display": false
  }
 },
 "nbformat": 4,
 "nbformat_minor": 2
}
