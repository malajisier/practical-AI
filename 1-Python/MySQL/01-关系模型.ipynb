{
 "cells": [
  {
   "cell_type": "markdown",
   "metadata": {},
   "source": [
    "## 1、主键   \n",
    "能够通过某个字段唯一区分出不同的记录，这个字段被称为主键   \n",
    "选取主键的一个基本原则是：不使用任何业务相关的字段作为主键。  \n",
    "     \n",
    "作为主键最好是完全业务无关的字段，我们一般把这个字段命名为id。常见的可作为id字段的类型有：\n",
    "\n",
    " - 自增整数类型：数据库会在插入数据时自动为每一条记录分配一个自增整数，这样我们就完全不用担心主键重复，也不用自己预先生成主键；   \n",
    "   (INT自增类型，当一张表的记录数超过2147483647（约21亿）时，会达到上限而出错。使用BIGINT自增类型则可以最多约922亿亿条记录)       \n",
    "     \n",
    " - 全局唯一GUID类型：使用一种全局唯一的字符串作为主键，类似8f55d96b-8acc-4636-8cb8-76bf8abc2f57。GUID算法通过网卡MAC地址、时间戳和随机数保证任意计算机在任意时间生成的字符串都是不同的，大部分编程语言都内置了GUID算法，可以自己预算出主键"
   ]
  },
  {
   "cell_type": "markdown",
   "metadata": {},
   "source": [
    "### 联合主键      \n",
    "关系数据库实际上还允许通过多个字段唯一标识记录，即两个或更多的字段都设置为主键。   \n",
    "允许一列有重复，只要不是所有主键列都重复"
   ]
  },
  {
   "cell_type": "markdown",
   "metadata": {},
   "source": [
    "## 2、外键     \n",
    "在一张表中，通过某个字段，可以把数据与另一张表关联起来，这种列称为外键。   \n",
    "    \n",
    "外键并不是通过列名实现的，而是通过定义外键约束实现的：    \n",
    "ADD CONSTRAINT fk_class_id  FOREIGN KEY (class_id)   REFERENCES classes (id);    \n",
    "外键约束名称:fk_class_id， FOREIGN KEY指定了class_id作为外键， REFERENCES classes (id)指定了这个外键将关联到classes表的id列（即classes表的主键）   "
   ]
  },
  {
   "cell_type": "markdown",
   "metadata": {},
   "source": [
    "关系数据库通过外键可以实现一对多、多对多和一对一的关系。外键既可以通过数据库来约束，也可以不设置约束，仅依靠应用程序的逻辑来保证"
   ]
  },
  {
   "cell_type": "code",
   "execution_count": null,
   "metadata": {},
   "outputs": [],
   "source": []
  }
 ],
 "metadata": {
  "kernelspec": {
   "display_name": "Python 3",
   "language": "python",
   "name": "python3"
  },
  "language_info": {
   "codemirror_mode": {
    "name": "ipython",
    "version": 3
   },
   "file_extension": ".py",
   "mimetype": "text/x-python",
   "name": "python",
   "nbconvert_exporter": "python",
   "pygments_lexer": "ipython3",
   "version": "3.6.8"
  }
 },
 "nbformat": 4,
 "nbformat_minor": 2
}
