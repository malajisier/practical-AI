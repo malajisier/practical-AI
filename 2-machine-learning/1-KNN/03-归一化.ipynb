{
 "cells": [
  {
   "cell_type": "markdown",
   "metadata": {},
   "source": [
    "## 1. 最值归一化   Normalization      \n",
    "把所有值映射到0～1之间， 适用于分布有明显边界的情况，比如图像像素。      \n",
    "\n",
    "$x_{scale} = \\frac{x - x_{min}}{x_{max} - x_{min}}$"
   ]
  },
  {
   "cell_type": "code",
   "execution_count": 1,
   "metadata": {},
   "outputs": [
    {
     "data": {
      "text/plain": [
       "array([66, 37, 92, 32, 29, 87, 97, 69, 77, 28, 42, 12, 29, 31, 14, 29, 32,\n",
       "        9, 23, 52, 62, 81, 47, 30, 44, 82, 71, 19,  4, 47, 79, 89, 67, 36,\n",
       "       70, 70, 81, 65, 84,  8, 78, 31, 15, 61, 78, 24, 26, 10,  0, 53,  9,\n",
       "       55, 32, 69, 99, 30, 52, 27, 84, 39, 68, 11, 46, 63, 86,  6, 59, 28,\n",
       "       16,  9, 82, 34,  9, 13, 76, 93, 78, 47, 84, 81, 12, 29, 61, 34, 11,\n",
       "       57,  0, 58, 59, 96, 87, 32, 37, 63, 81, 20, 72, 17, 48, 72])"
      ]
     },
     "execution_count": 1,
     "metadata": {},
     "output_type": "execute_result"
    }
   ],
   "source": [
    "import numpy as np\n",
    "\n",
    "x = np.random.randint(0, 100, size=100)\n",
    "x"
   ]
  },
  {
   "cell_type": "code",
   "execution_count": 2,
   "metadata": {},
   "outputs": [
    {
     "data": {
      "text/plain": [
       "array([0.66666667, 0.37373737, 0.92929293, 0.32323232, 0.29292929,\n",
       "       0.87878788, 0.97979798, 0.6969697 , 0.77777778, 0.28282828,\n",
       "       0.42424242, 0.12121212, 0.29292929, 0.31313131, 0.14141414,\n",
       "       0.29292929, 0.32323232, 0.09090909, 0.23232323, 0.52525253,\n",
       "       0.62626263, 0.81818182, 0.47474747, 0.3030303 , 0.44444444,\n",
       "       0.82828283, 0.71717172, 0.19191919, 0.04040404, 0.47474747,\n",
       "       0.7979798 , 0.8989899 , 0.67676768, 0.36363636, 0.70707071,\n",
       "       0.70707071, 0.81818182, 0.65656566, 0.84848485, 0.08080808,\n",
       "       0.78787879, 0.31313131, 0.15151515, 0.61616162, 0.78787879,\n",
       "       0.24242424, 0.26262626, 0.1010101 , 0.        , 0.53535354,\n",
       "       0.09090909, 0.55555556, 0.32323232, 0.6969697 , 1.        ,\n",
       "       0.3030303 , 0.52525253, 0.27272727, 0.84848485, 0.39393939,\n",
       "       0.68686869, 0.11111111, 0.46464646, 0.63636364, 0.86868687,\n",
       "       0.06060606, 0.5959596 , 0.28282828, 0.16161616, 0.09090909,\n",
       "       0.82828283, 0.34343434, 0.09090909, 0.13131313, 0.76767677,\n",
       "       0.93939394, 0.78787879, 0.47474747, 0.84848485, 0.81818182,\n",
       "       0.12121212, 0.29292929, 0.61616162, 0.34343434, 0.11111111,\n",
       "       0.57575758, 0.        , 0.58585859, 0.5959596 , 0.96969697,\n",
       "       0.87878788, 0.32323232, 0.37373737, 0.63636364, 0.81818182,\n",
       "       0.2020202 , 0.72727273, 0.17171717, 0.48484848, 0.72727273])"
      ]
     },
     "execution_count": 2,
     "metadata": {},
     "output_type": "execute_result"
    }
   ],
   "source": [
    "(x - np.min(x)) / (np.max(x) - np.min(x))"
   ]
  },
  {
   "cell_type": "markdown",
   "metadata": {},
   "source": [
    "## 2. 均值方差归一化    \n",
    "把所有数据归一到 `均值为0` `方差为1`的分布中    \n",
    "适用于数据分布没有明显的边界；有可能存在极端数据值     \n",
    "\n",
    "$x_{scale} = \\frac{x - x_{mean}}{S}$"
   ]
  },
  {
   "cell_type": "code",
   "execution_count": 9,
   "metadata": {},
   "outputs": [
    {
     "data": {
      "text/plain": [
       "array([[ 8., 42.],\n",
       "       [56., 46.],\n",
       "       [87., 78.]])"
      ]
     },
     "execution_count": 9,
     "metadata": {},
     "output_type": "execute_result"
    }
   ],
   "source": [
    "x2 = np.random.randint(0, 100, (50, 2))\n",
    "x2 = np.array(x2, dtype=float)\n",
    "x2[:3]"
   ]
  },
  {
   "cell_type": "code",
   "execution_count": 4,
   "metadata": {},
   "outputs": [],
   "source": [
    "x2[:, 0] = (x2[:, 0] - np.mean(x2[:, 0])) / np.std(x2[:, 0])\n",
    "x2[:, 1] = (x2[:, 1] - np.mean(x2[:, 1])) / np.std(x2[:, 1])"
   ]
  },
  {
   "cell_type": "code",
   "execution_count": 6,
   "metadata": {
    "scrolled": true
   },
   "outputs": [
    {
     "data": {
      "image/png": "[encoded data removed]",
      "text/plain": [
       "<Figure size 432x288 with 1 Axes>"
      ]
     },
     "metadata": {
      "needs_background": "light"
     },
     "output_type": "display_data"
    }
   ],
   "source": [
    "import matplotlib.pyplot as plt\n",
    "\n",
    "plt.scatter(x2[:, 0], x2[:, 1])\n",
    "plt.show()"
   ]
  },
  {
   "cell_type": "code",
   "execution_count": 7,
   "metadata": {},
   "outputs": [
    {
     "data": {
      "text/plain": [
       "6.217248937900877e-17"
      ]
     },
     "execution_count": 7,
     "metadata": {},
     "output_type": "execute_result"
    }
   ],
   "source": [
    "np.mean(x2[:, 0])"
   ]
  },
  {
   "cell_type": "code",
   "execution_count": 8,
   "metadata": {},
   "outputs": [
    {
     "data": {
      "text/plain": [
       "0.9999999999999998"
      ]
     },
     "execution_count": 8,
     "metadata": {},
     "output_type": "execute_result"
    }
   ],
   "source": [
    "np.std(x2[:, 0])"
   ]
  },
  {
   "cell_type": "code",
   "execution_count": null,
   "metadata": {},
   "outputs": [],
   "source": []
  }
 ],
 "metadata": {
  "kernelspec": {
   "display_name": "Python 3",
   "language": "python",
   "name": "python3"
  },
  "language_info": {
   "codemirror_mode": {
    "name": "ipython",
    "version": 3
   },
   "file_extension": ".py",
   "mimetype": "text/x-python",
   "name": "python",
   "nbconvert_exporter": "python",
   "pygments_lexer": "ipython3",
   "version": "3.7.3"
  },
  "toc": {
   "base_numbering": 1,
   "nav_menu": {},
   "number_sections": true,
   "sideBar": true,
   "skip_h1_title": false,
   "title_cell": "Table of Contents",
   "title_sidebar": "Contents",
   "toc_cell": false,
   "toc_position": {},
   "toc_section_display": true,
   "toc_window_display": false
  }
 },
 "nbformat": 4,
 "nbformat_minor": 2
}
