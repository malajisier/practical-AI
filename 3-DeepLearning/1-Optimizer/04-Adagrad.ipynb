{
 "cells": [
  {
   "cell_type": "markdown",
   "metadata": {},
   "source": [
    "## 自适应学习率的方法\n",
    "人工设置学习率比较生硬，灵活性较差。接下来介绍几种自适应学习率的方法      \n",
    "\n",
    "## 1. Adagrad   \n",
    "Adagrad对学习率进行了一种约束。   \n",
    "根据梯度的更新量调节梯度实际的影响值。如果一个变量的梯度更新量比较大，那么再后面的更新过程中我们会适当减少它的更新量，如果更新量比较小，那么我们可以适当地增加它的更新量"
   ]
  },
  {
   "cell_type": "code",
   "execution_count": 9,
   "metadata": {},
   "outputs": [],
   "source": [
    "# 简单实现\n",
    "def adagrad(x_start, step, g, delta=1e-8):\n",
    "    x = np.array(x_start, dtype='float64')\n",
    "    sum_grad = np.zeros_like(x)\n",
    "    \n",
    "    for i in range(50):\n",
    "        grad = g(x)\n",
    "        sum_grad = grad * grad\n",
    "        x -= step * grad / (np.sqrt(sum_grad) + delta)\n",
    "        \n",
    "        if sum_grad < 1e-6:\n",
    "            break;\n",
    "    \n",
    "    return x"
   ]
  },
  {
   "cell_type": "markdown",
   "metadata": {},
   "source": [
    "## 2. Adagrad"
   ]
  },
  {
   "cell_type": "code",
   "execution_count": null,
   "metadata": {},
   "outputs": [],
   "source": []
  }
 ],
 "metadata": {
  "kernelspec": {
   "display_name": "Python 3",
   "language": "python",
   "name": "python3"
  },
  "language_info": {
   "codemirror_mode": {
    "name": "ipython",
    "version": 3
   },
   "file_extension": ".py",
   "mimetype": "text/x-python",
   "name": "python",
   "nbconvert_exporter": "python",
   "pygments_lexer": "ipython3",
   "version": "3.7.3"
  },
  "toc": {
   "base_numbering": 1,
   "nav_menu": {},
   "number_sections": true,
   "sideBar": true,
   "skip_h1_title": false,
   "title_cell": "Table of Contents",
   "title_sidebar": "Contents",
   "toc_cell": false,
   "toc_position": {},
   "toc_section_display": true,
   "toc_window_display": false
  }
 },
 "nbformat": 4,
 "nbformat_minor": 2
}
