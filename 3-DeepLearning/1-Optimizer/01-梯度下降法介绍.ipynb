{
 "cells": [
  {
   "cell_type": "markdown",
   "metadata": {},
   "source": [
    "## 梯度下降法  \n",
    "梯度方向表示了函数增长速度最快的方向，那么和它相反的方向就是函数减少速度最快的方向。   \n",
    "所以对于机器学习模型优化的问题，当我们需要求解最小值的时候，朝着梯度下降的方向走，就能找到最优值了"
   ]
  },
  {
   "cell_type": "code",
   "execution_count": 4,
   "metadata": {},
   "outputs": [],
   "source": [
    "import numpy as np\n",
    "import matplotlib.pyplot as plt"
   ]
  },
  {
   "cell_type": "code",
   "execution_count": 5,
   "metadata": {},
   "outputs": [],
   "source": [
    "# 梯度下降的简单实现\n",
    "def gd(x_start, step, g):\n",
    "    x = x_start                   \n",
    "    for i in range(20):\n",
    "        grad = g(x)\n",
    "        x -= grad * step\n",
    "        print('Epoch {0}, grad={1}, x={2}'.format(i, grad, x))\n",
    "\n",
    "        if abs(grad) < 1e-6:\n",
    "            break\n",
    "    return x\n",
    "\n",
    "def f(x):\n",
    "    return x ** 2 - 2 * x + 1\n",
    "\n",
    "def g(x):\n",
    "    return 2 *x - 2"
   ]
  },
  {
   "cell_type": "code",
   "execution_count": 6,
   "metadata": {},
   "outputs": [
    {
     "data": {
      "image/png": "[encoded data removed]",
      "text/plain": [
       "<Figure size 432x288 with 1 Axes>"
      ]
     },
     "metadata": {
      "needs_background": "light"
     },
     "output_type": "display_data"
    }
   ],
   "source": [
    "x = np.linspace(-5, 7, 100)\n",
    "y = f(x)\n",
    "plt.plot(x, y, color='r')\n",
    "plt.show()"
   ]
  },
  {
   "cell_type": "code",
   "execution_count": 7,
   "metadata": {
    "scrolled": true
   },
   "outputs": [
    {
     "name": "stdout",
     "output_type": "stream",
     "text": [
      "Epoch 0, grad=4, x=2.6\n",
      "Epoch 1, grad=3.2, x=2.2800000000000002\n",
      "Epoch 2, grad=2.5600000000000005, x=2.024\n",
      "Epoch 3, grad=2.048, x=1.8192\n",
      "Epoch 4, grad=1.6383999999999999, x=1.65536\n",
      "Epoch 5, grad=1.3107199999999999, x=1.5242879999999999\n",
      "Epoch 6, grad=1.0485759999999997, x=1.4194304\n",
      "Epoch 7, grad=0.8388608, x=1.33554432\n",
      "Epoch 8, grad=0.6710886399999998, x=1.268435456\n",
      "Epoch 9, grad=0.5368709119999999, x=1.2147483648\n",
      "Epoch 10, grad=0.42949672959999985, x=1.1717986918399999\n",
      "Epoch 11, grad=0.3435973836799997, x=1.137438953472\n",
      "Epoch 12, grad=0.27487790694399994, x=1.1099511627776\n",
      "Epoch 13, grad=0.21990232555519995, x=1.08796093022208\n",
      "Epoch 14, grad=0.17592186044416014, x=1.0703687441776641\n",
      "Epoch 15, grad=0.1407374883553283, x=1.0562949953421312\n",
      "Epoch 16, grad=0.11258999068426245, x=1.045035996273705\n",
      "Epoch 17, grad=0.09007199254741005, x=1.036028797018964\n",
      "Epoch 18, grad=0.07205759403792822, x=1.0288230376151712\n",
      "Epoch 19, grad=0.057646075230342486, x=1.023058430092137\n"
     ]
    },
    {
     "data": {
      "text/plain": [
       "1.023058430092137"
      ]
     },
     "execution_count": 7,
     "metadata": {},
     "output_type": "execute_result"
    }
   ],
   "source": [
    "gd(3, 0.1, g)"
   ]
  },
  {
   "cell_type": "code",
   "execution_count": 9,
   "metadata": {},
   "outputs": [
    {
     "name": "stdout",
     "output_type": "stream",
     "text": [
      "Epoch 0, grad=4, x=-1\n",
      "Epoch 1, grad=-4, x=3\n",
      "Epoch 2, grad=4, x=-1\n",
      "Epoch 3, grad=-4, x=3\n",
      "Epoch 4, grad=4, x=-1\n",
      "Epoch 5, grad=-4, x=3\n",
      "Epoch 6, grad=4, x=-1\n",
      "Epoch 7, grad=-4, x=3\n",
      "Epoch 8, grad=4, x=-1\n",
      "Epoch 9, grad=-4, x=3\n",
      "Epoch 10, grad=4, x=-1\n",
      "Epoch 11, grad=-4, x=3\n",
      "Epoch 12, grad=4, x=-1\n",
      "Epoch 13, grad=-4, x=3\n",
      "Epoch 14, grad=4, x=-1\n",
      "Epoch 15, grad=-4, x=3\n",
      "Epoch 16, grad=4, x=-1\n",
      "Epoch 17, grad=-4, x=3\n",
      "Epoch 18, grad=4, x=-1\n",
      "Epoch 19, grad=-4, x=3\n"
     ]
    },
    {
     "data": {
      "text/plain": [
       "3"
      ]
     },
     "execution_count": 9,
     "metadata": {},
     "output_type": "execute_result"
    }
   ],
   "source": [
    "gd(3, 1, g)"
   ]
  },
  {
   "cell_type": "code",
   "execution_count": 8,
   "metadata": {},
   "outputs": [
    {
     "name": "stdout",
     "output_type": "stream",
     "text": [
      "Epoch 0, grad=4, x=-397\n",
      "Epoch 1, grad=-796, x=79203\n",
      "Epoch 2, grad=158404, x=-15761197\n",
      "Epoch 3, grad=-31522396, x=3136478403\n",
      "Epoch 4, grad=6272956804, x=-624159201997\n",
      "Epoch 5, grad=-1248318403996, x=124207681197603\n",
      "Epoch 6, grad=248415362395204, x=-24717328558322797\n",
      "Epoch 7, grad=-49434657116645596, x=4918748383106236803\n",
      "Epoch 8, grad=9837496766212473604, x=-978830928238141123597\n",
      "Epoch 9, grad=-1957661856476282247196, x=194787354719390083596003\n",
      "Epoch 10, grad=389574709438780167192004, x=-38762683589158626635604397\n",
      "Epoch 11, grad=-77525367178317253271208796, x=7713774034242566700485275203\n",
      "Epoch 12, grad=15427548068485133400970550404, x=-1535041032814270773396569765197\n",
      "Epoch 13, grad=-3070082065628541546793139530396, x=305473165530039883905917383274403\n",
      "Epoch 14, grad=610946331060079767811834766548804, x=-60789159940477936897277559271605997\n",
      "Epoch 15, grad=-121578319880955873794555118543211996, x=12097042828155109442558234295049593603\n",
      "Epoch 16, grad=24194085656310218885116468590099187204, x=-2407311522802866779069088624714869126797\n",
      "Epoch 17, grad=-4814623045605733558138177249429738253596, x=479054993037770489034748636318258956232803\n",
      "Epoch 18, grad=958109986075540978069497272636517912465604, x=-95331943614516327317914978627333532290327597\n",
      "Epoch 19, grad=-190663887229032654635829957254667064580655196, x=18971056779288749136265080746839372925775192003\n"
     ]
    },
    {
     "data": {
      "text/plain": [
       "18971056779288749136265080746839372925775192003"
      ]
     },
     "execution_count": 8,
     "metadata": {},
     "output_type": "execute_result"
    }
   ],
   "source": [
    "gd(3, 100 ,g)"
   ]
  },
  {
   "cell_type": "markdown",
   "metadata": {},
   "source": [
    "对比三个步长可以发现，合适的步长才能使梯度下降更快   \n",
    "且"
   ]
  },
  {
   "cell_type": "code",
   "execution_count": null,
   "metadata": {},
   "outputs": [],
   "source": []
  }
 ],
 "metadata": {
  "kernelspec": {
   "display_name": "Python 3",
   "language": "python",
   "name": "python3"
  },
  "language_info": {
   "codemirror_mode": {
    "name": "ipython",
    "version": 3
   },
   "file_extension": ".py",
   "mimetype": "text/x-python",
   "name": "python",
   "nbconvert_exporter": "python",
   "pygments_lexer": "ipython3",
   "version": "3.6.8"
  }
 },
 "nbformat": 4,
 "nbformat_minor": 2
}
