{
 "cells": [
  {
   "cell_type": "markdown",
   "metadata": {
    "colab_type": "text",
    "id": "l490Cj9B6c9U"
   },
   "source": [
    "\n",
    "Keras使得创建深度学习模型变得快速而简单。   \n",
    "\n",
    "序贯(sequential)API允许您为大多数问题逐层堆叠创建模型。虽然说对很多的应用来说, 这样的一个手法很简单也解决 了很多深度学习网络结构的构建，但是它也有限制 - 它不允许你创建模型有共享层或有多个输入或输出的网络。     \n",
    "\n",
    "Keras中的函数式(functional)API是创建网络模型的另一种方式，它提供了更多的灵活性，包括创建更复杂的模型。\n",
    "\n"
   ]
  },
  {
   "cell_type": "code",
   "execution_count": 18,
   "metadata": {
    "colab": {
     "base_uri": "https://localhost:8080/",
     "height": 68
    },
    "colab_type": "code",
    "id": "nQt8dhv-9UMS",
    "outputId": "7891c88f-1f4e-4174-a498-7ec5a3f5e1da"
   },
   "outputs": [
    {
     "name": "stdout",
     "output_type": "stream",
     "text": [
      "Platfrom: Linux-4.14.79+-x86_64-with-Ubuntu-18.04-bionic\n",
      "tf version: 1.14.0\n",
      "keras version: 2.2.4\n"
     ]
    }
   ],
   "source": [
    "import platform\n",
    "import tensorflow as tf\n",
    "import keras\n",
    "\n",
    "print('Platfrom: {}'.format(platform.platform()))\n",
    "print('tf version: {}'.format(tf.__version__))\n",
    "print('keras version: {}'.format(keras.__version__))"
   ]
  },
  {
   "cell_type": "code",
   "execution_count": 0,
   "metadata": {
    "colab": {},
    "colab_type": "code",
    "id": "VAv7ewZp95m7"
   },
   "outputs": [],
   "source": [
    "import matplotlib.pyplot as plt\n",
    "import matplotlib.image as mpimg\n",
    "import numpy as np\n",
    "from IPython.display import Image"
   ]
  },
  {
   "cell_type": "markdown",
   "metadata": {
    "colab_type": "text",
    "id": "NyvmDoRl-Mhn"
   },
   "source": [
    "## 1. Sequential API   \n",
    "Keras提供了一个Sequential模型API。它是创建深度学习模型的一种相对简单的方法，我们透过创建Kears的Sequential类别实例(instance), 然后创建模型图层 并添加到其中。     \n",
    "\n",
    "```python\n",
    "keras.layers.Dense(\n",
    "                  units,  # 神经元数目 \n",
    "\t\t\t\t  activation=None,   \n",
    "\t\t\t\t  use_bias=True, \n",
    "\t\t\t\t  kernel_initializer='glorot_uniform', \n",
    "\t\t\t\t  bias_initializer='zeros', \n",
    "\t\t\t\t  kernel_regularizer=None, \n",
    "\t\t\t\t  bias_regularizer=None, \n",
    "\t\t\t      activity_regularizer=None, \n",
    "\t\t\t\t  kernel_constraint=None, \n",
    "\t\t\t\t  bias_constraint=None  # 偏置值变化限制函数\n",
    ")\n",
    "\n",
    "```"
   ]
  },
  {
   "cell_type": "code",
   "execution_count": 0,
   "metadata": {
    "colab": {},
    "colab_type": "code",
    "id": "WetiFMb0-sN2"
   },
   "outputs": [],
   "source": [
    "from keras import Sequential\n",
    "from keras.layers import Dense"
   ]
  },
  {
   "cell_type": "code",
   "execution_count": 21,
   "metadata": {
    "colab": {
     "base_uri": "https://localhost:8080/",
     "height": 34
    },
    "colab_type": "code",
    "id": "JGNUDB_c_ANH",
    "outputId": "5de7d2af-3042-49b0-ca11-fb2c388fc379"
   },
   "outputs": [
    {
     "data": {
      "text/plain": [
       "<keras.engine.sequential.Sequential at 0x7fb71c94a9b0>"
      ]
     },
     "execution_count": 21,
     "metadata": {
      "tags": []
     },
     "output_type": "execute_result"
    }
   ],
   "source": [
    "model = Sequential([Dense(2, input_shape=(1,)), Dense(1)])\n",
    "model\n",
    "\n",
    "# 方法二：\n",
    "# model = Sequential()\n",
    "# model.add(Dense(2, input_shape=(1,)))\n",
    "# model.add(Dense(1))"
   ]
  },
  {
   "cell_type": "markdown",
   "metadata": {
    "colab_type": "text",
    "id": "uMniPn4n_l_Q"
   },
   "source": [
    "## 2. Keras函数式(functional)API    \n",
    "\n",
    "为构建网络模型提供了更为灵活的方式。它允许您定义多个输入或输出模型以及共享图层的模型。除此之外，它允许您定义动态(ad-hoc)的非周期性(acyclic)网络图。   \n",
    "\n",
    "模型是通过创建层的实例(layer instances)并将它们直接相互连接成对来定义的，然后定义一个模型(model)来指定那些层是要作为 这个模型的输入和输出。   \n",
    "让我们依次看看Keras功能(functional)API的三个独特特性：\n",
    "\n",
    "### 2.1 定义输入    \n",
    "与Sequential模型不同，您必须创建独立的Input实例instance并定义输入数据张量的维度形状(tensor shape)。   \n",
    "输入层采用一个张量形状参数(tensor shape)，它是一个tuple，用于宣吿输入张量的维度\n"
   ]
  },
  {
   "cell_type": "code",
   "execution_count": 22,
   "metadata": {
    "colab": {
     "base_uri": "https://localhost:8080/",
     "height": 34
    },
    "colab_type": "code",
    "id": "eZPsXQxMCi7h",
    "outputId": "3784b513-e69d-45f9-9813-e7a0140b2f93"
   },
   "outputs": [
    {
     "data": {
      "text/plain": [
       "<tf.Tensor 'input_5_1:0' shape=(?, 784) dtype=float32>"
      ]
     },
     "execution_count": 22,
     "metadata": {
      "tags": []
     },
     "output_type": "execute_result"
    }
   ],
   "source": [
    "from keras.layers import Input   \n",
    "\n",
    "input = Input(shape=(784, ))\n",
    "input"
   ]
  },
  {
   "cell_type": "markdown",
   "metadata": {
    "colab_type": "text",
    "id": "GD6CFYYcFXXq"
   },
   "source": [
    "### 2.2 连接不同的网络层    \n",
    "这种逐层连接的方式赋予功能性(functional)API灵活性"
   ]
  },
  {
   "cell_type": "code",
   "execution_count": 23,
   "metadata": {
    "colab": {
     "base_uri": "https://localhost:8080/",
     "height": 34
    },
    "colab_type": "code",
    "id": "0dr7ZPnrHIcC",
    "outputId": "fe4fd600-0bcc-4e3b-e85e-660b048d6786"
   },
   "outputs": [
    {
     "data": {
      "text/plain": [
       "<tf.Tensor 'dense_8/BiasAdd:0' shape=(?, 512) dtype=float32>"
      ]
     },
     "execution_count": 23,
     "metadata": {
      "tags": []
     },
     "output_type": "execute_result"
    }
   ],
   "source": [
    "input = Input(shape=(784,))\n",
    "hidden = Dense(512)(input)\n",
    "hidden"
   ]
  },
  {
   "cell_type": "markdown",
   "metadata": {
    "colab_type": "text",
    "id": "5Ow8cX9LHXhS"
   },
   "source": [
    "### 2.3 创建模型   \n",
    "在创建所有模型图层并将它们连接在一起之后，您必须定义一个模型(Model)物件的instance。  \n",
    "与Sequential API一样，这个模型是您可以用于总结(summarize)，拟合(fit)，评估(evaluate)和预测(predict)。     \n",
    "\n",
    "Keras提供了一个Model类别，您可以使用它从创建的图层创建模型的instance。它会要求您只指定整个模型的第一个输入层和最后一个的输出层\n"
   ]
  },
  {
   "cell_type": "code",
   "execution_count": 24,
   "metadata": {
    "colab": {
     "base_uri": "https://localhost:8080/",
     "height": 34
    },
    "colab_type": "code",
    "id": "FvN5kzS8Hvca",
    "outputId": "25bb9266-aff9-4117-9d4c-a7aa4aa888e3"
   },
   "outputs": [
    {
     "data": {
      "text/plain": [
       "<keras.engine.training.Model at 0x7fb744aae668>"
      ]
     },
     "execution_count": 24,
     "metadata": {
      "tags": []
     },
     "output_type": "execute_result"
    }
   ],
   "source": [
    "from keras.models import Model\n",
    "\n",
    "input = Input(shape=(784, ))\n",
    "hidden = Dense(512)(input)\n",
    "\n",
    "model = Model(inputs=input, outputs=hidden)\n",
    "model"
   ]
  },
  {
   "cell_type": "markdown",
   "metadata": {
    "colab_type": "text",
    "id": "ZFNZdEuMIdoh"
   },
   "source": [
    "## 3. 构建标准网络模型       \n",
    "\n",
    "### 3.1 多层感知机/ Multilayer Perceptron     \n",
    "该模型有784个输入，3个隐藏层，512,216和128个隐藏神经元，输出层有10个输出。    \n",
    "在每个隐藏层中使用`relu`激活函数，并且在输出层中使用`softmax`激活函数进行多类别分类\n"
   ]
  },
  {
   "cell_type": "code",
   "execution_count": 25,
   "metadata": {
    "colab": {
     "base_uri": "https://localhost:8080/",
     "height": 306
    },
    "colab_type": "code",
    "id": "7PqJbX0iI_sk",
    "outputId": "32dc682b-814f-4d6e-a6a1-2b1d13303d36"
   },
   "outputs": [
    {
     "name": "stdout",
     "output_type": "stream",
     "text": [
      "_________________________________________________________________\n",
      "Layer (type)                 Output Shape              Param #   \n",
      "=================================================================\n",
      "input (InputLayer)           (None, 784)               0         \n",
      "_________________________________________________________________\n",
      "hidden1 (Dense)              (None, 512)               401920    \n",
      "_________________________________________________________________\n",
      "hidden2 (Dense)              (None, 216)               110808    \n",
      "_________________________________________________________________\n",
      "hidden3 (Dense)              (None, 128)               27776     \n",
      "_________________________________________________________________\n",
      "output (Dense)               (None, 10)                1290      \n",
      "=================================================================\n",
      "Total params: 541,794\n",
      "Trainable params: 541,794\n",
      "Non-trainable params: 0\n",
      "_________________________________________________________________\n"
     ]
    }
   ],
   "source": [
    "from keras.utils import plot_model\n",
    "\n",
    "mnist_input = Input(shape=(784,), name='input')\n",
    "hidden1 = Dense(512, activation='relu', name='hidden1')(mnist_input)\n",
    "hidden2 = Dense(216, activation='relu', name='hidden2')(hidden1)\n",
    "hidden3 = Dense(128, activation='relu', name='hidden3')(hidden2)\n",
    "output = Dense(10, activation='softmax', name='output')(hidden3)\n",
    "\n",
    "model = Model(inputs=mnist_input, outputs=output)\n",
    "# 网络结构\n",
    "model.summary()"
   ]
  },
  {
   "cell_type": "code",
   "execution_count": 26,
   "metadata": {
    "colab": {
     "base_uri": "https://localhost:8080/",
     "height": 466
    },
    "colab_type": "code",
    "id": "OIu-TdkZKFdf",
    "outputId": "6efc6d22-6c33-4daa-dc71-6086da7e94da"
   },
   "outputs": [
    {
     "data": {
      "image/png": "[encoded data removed]",
      "text/plain": [
       "<IPython.core.display.Image object>"
      ]
     },
     "execution_count": 26,
     "metadata": {
      "tags": []
     },
     "output_type": "execute_result"
    }
   ],
   "source": [
    "# 网络拓扑结构  \n",
    "plot_model(model, to_file='perceptron_graph.png')\n",
    "Image('perceptron_graph.png')"
   ]
  },
  {
   "cell_type": "markdown",
   "metadata": {
    "colab_type": "text",
    "id": "9WUAT9a9KtqU"
   },
   "source": [
    "### 3.2 CNN    \n",
    "```python\n",
    "    Conv2D(filters,\n",
    "           kernel_size, \n",
    "           strides=(1, 1),\n",
    "           padding='valid', \n",
    "           data_format=None, \n",
    "           dilation_rate=(1, 1), \n",
    "           activation=None, \n",
    "           use_bias=True, \n",
    "           kernel_initializer='glorot_uniform', \n",
    "           bias_initializer='zeros', \n",
    "           kernel_regularizer=None, \n",
    "           bias_regularizer=None, \n",
    "           activity_regularizer=None, \n",
    "           kernel_constraint=None, \n",
    "           bias_constraint=None, \n",
    "           **kwargs)\n",
    "```\n"
   ]
  },
  {
   "cell_type": "code",
   "execution_count": 27,
   "metadata": {
    "colab": {
     "base_uri": "https://localhost:8080/",
     "height": 374
    },
    "colab_type": "code",
    "id": "y1XM_fF_Mp-Q",
    "outputId": "4543c9f0-c4b8-44fd-c33f-34ca7170383d"
   },
   "outputs": [
    {
     "name": "stdout",
     "output_type": "stream",
     "text": [
      "_________________________________________________________________\n",
      "Layer (type)                 Output Shape              Param #   \n",
      "=================================================================\n",
      "input (InputLayer)           (None, 28, 28, 1)         0         \n",
      "_________________________________________________________________\n",
      "conv1 (Conv2D)               (None, 25, 25, 128)       2176      \n",
      "_________________________________________________________________\n",
      "pool1 (MaxPooling2D)         (None, 12, 12, 128)       0         \n",
      "_________________________________________________________________\n",
      "conv2 (Conv2D)               (None, 9, 9, 64)          131136    \n",
      "_________________________________________________________________\n",
      "pool2 (MaxPooling2D)         (None, 4, 4, 64)          0         \n",
      "_________________________________________________________________\n",
      "hidden1 (Dense)              (None, 4, 4, 64)          4160      \n",
      "_________________________________________________________________\n",
      "output (Dense)               (None, 4, 4, 10)          650       \n",
      "=================================================================\n",
      "Total params: 138,122\n",
      "Trainable params: 138,122\n",
      "Non-trainable params: 0\n",
      "_________________________________________________________________\n"
     ]
    }
   ],
   "source": [
    "from keras.layers.convolutional import Conv2D\n",
    "from keras.layers.pooling import MaxPool2D\n",
    "\n",
    "mnist_input = Input(shape=(28, 28, 1), name='input')\n",
    "\n",
    "conv1 = Conv2D(128, 4, activation='relu', name='conv1')(mnist_input)\n",
    "pool1 = MaxPool2D(pool_size=(2, 2), name='pool1')(conv1)\n",
    "conv2 = Conv2D(64, 4, activation='relu', name='conv2')(pool1)\n",
    "pool2 = MaxPool2D(pool_size=(2, 2), name='pool2')(conv2)\n",
    "\n",
    "hidden1 = Dense(64, activation='relu', name='hidden1')(pool2)\n",
    "output = Dense(10, activation='softmax', name='output')(hidden1)\n",
    "\n",
    "model = Model(inputs=mnist_input, outputs=output)\n",
    "model.summary()"
   ]
  },
  {
   "cell_type": "markdown",
   "metadata": {
    "colab_type": "text",
    "id": "uU8SKHQnNV74"
   },
   "source": [
    "### 3.3 RNN(略)"
   ]
  },
  {
   "cell_type": "markdown",
   "metadata": {
    "colab_type": "text",
    "id": "jbRRKW9EPpoq"
   },
   "source": [
    "## 4. 共享层模型      \n",
    "\n",
    "### 4.1 共享输入层（Shared Input Layer）\n",
    "定义具有不同大小的内核的多个卷积层来解释图像输入。    \n",
    "\n",
    "该模型使用28×28像素的灰阶图像。有两个CNN特征提取子模型共享这个输入;第一个具有4的内核大小和第二个8的内核大小。   \n",
    "这些特征提取子模型的输出被平坦化(flatten)为向量(vector)，并且被串连成一个长向量, 然后被传递到完全连接的层以 用于在最终输出层之前进行10类别预测。\n"
   ]
  },
  {
   "cell_type": "code",
   "execution_count": 28,
   "metadata": {
    "colab": {
     "base_uri": "https://localhost:8080/",
     "height": 493
    },
    "colab_type": "code",
    "id": "dsZwNda0Qo4N",
    "outputId": "0dd66179-3f3a-46ce-f890-4408d120930d"
   },
   "outputs": [
    {
     "name": "stdout",
     "output_type": "stream",
     "text": [
      "__________________________________________________________________________________________________\n",
      "Layer (type)                    Output Shape         Param #     Connected to                     \n",
      "==================================================================================================\n",
      "input (InputLayer)              (None, 28, 28, 1)    0                                            \n",
      "__________________________________________________________________________________________________\n",
      "conv1 (Conv2D)                  (None, 25, 25, 32)   544         input[0][0]                      \n",
      "__________________________________________________________________________________________________\n",
      "conv2 (Conv2D)                  (None, 21, 21, 16)   1040        input[0][0]                      \n",
      "__________________________________________________________________________________________________\n",
      "pool1 (MaxPooling2D)            (None, 12, 12, 32)   0           conv1[0][0]                      \n",
      "__________________________________________________________________________________________________\n",
      "pool2 (MaxPooling2D)            (None, 10, 10, 16)   0           conv2[0][0]                      \n",
      "__________________________________________________________________________________________________\n",
      "flatten_5 (Flatten)             (None, 4608)         0           pool1[0][0]                      \n",
      "__________________________________________________________________________________________________\n",
      "flatten_6 (Flatten)             (None, 1600)         0           pool2[0][0]                      \n",
      "__________________________________________________________________________________________________\n",
      "concatenate_3 (Concatenate)     (None, 6208)         0           flatten_5[0][0]                  \n",
      "                                                                 flatten_6[0][0]                  \n",
      "__________________________________________________________________________________________________\n",
      "hidden1 (Dense)                 (None, 64)           397376      concatenate_3[0][0]              \n",
      "__________________________________________________________________________________________________\n",
      "output (Dense)                  (None, 10)           650         hidden1[0][0]                    \n",
      "==================================================================================================\n",
      "Total params: 399,610\n",
      "Trainable params: 399,610\n",
      "Non-trainable params: 0\n",
      "__________________________________________________________________________________________________\n"
     ]
    }
   ],
   "source": [
    "from keras.layers import Input, Dense, Flatten\n",
    "from keras.layers.merge import concatenate\n",
    "\n",
    "mnist_input = Input(shape=(28, 28, 1), name='input')\n",
    "\n",
    "# first feature exractor\n",
    "conv1 = Conv2D(32, 4, activation='relu', name='conv1')(mnist_input)\n",
    "pool1 = MaxPool2D(pool_size=(2, 2), name='pool1')(conv1)\n",
    "flat1 = Flatten()(pool1)\n",
    "\n",
    "# second feature exractor\n",
    "conv2 = Conv2D(16, 8, activation='relu', name='conv2')(mnist_input)\n",
    "pool2 = MaxPool2D(pool_size=(2, 2), name='pool2')(conv2)\n",
    "flat2 = Flatten()(pool2)\n",
    "\n",
    "merge = concatenate([flat1, flat2])\n",
    "hidden1 = Dense(64, activation='relu', name='hidden1')(merge)\n",
    "output = Dense(10, activation='softmax', name='output')(hidden1)\n",
    "\n",
    "model = Model(inputs=mnist_input, outputs=output)\n",
    "model.summary()"
   ]
  },
  {
   "cell_type": "code",
   "execution_count": 29,
   "metadata": {
    "colab": {
     "base_uri": "https://localhost:8080/",
     "height": 661
    },
    "colab_type": "code",
    "id": "8XXrUJK6Swvy",
    "outputId": "a2395f41-09d2-49a2-bbfb-53259e4fd670"
   },
   "outputs": [
    {
     "data": {
      "image/png": "[encoded data removed]",
      "text/plain": [
       "<IPython.core.display.Image object>"
      ]
     },
     "execution_count": 29,
     "metadata": {
      "tags": []
     },
     "output_type": "execute_result"
    }
   ],
   "source": [
    "plot_model(model, to_file='shared_layer_input.png')\n",
    "Image('shared_layer_input.png')"
   ]
  },
  {
   "cell_type": "markdown",
   "metadata": {
    "colab_type": "text",
    "id": "5oVnRz4nj5yy"
   },
   "source": [
    "## 5. 多输入输出模型     \n",
    "\n",
    "### 5.1 多输入模型     \n"
   ]
  },
  {
   "cell_type": "code",
   "execution_count": 31,
   "metadata": {
    "colab": {
     "base_uri": "https://localhost:8080/",
     "height": 1000
    },
    "colab_type": "code",
    "id": "Q6cgLo34owQy",
    "outputId": "d20790fa-af36-40b0-faf9-61fe91d59d45"
   },
   "outputs": [
    {
     "name": "stdout",
     "output_type": "stream",
     "text": [
      "__________________________________________________________________________________________________\n",
      "Layer (type)                    Output Shape         Param #     Connected to                     \n",
      "==================================================================================================\n",
      "img_gray_bigsize (InputLayer)   (None, 64, 64, 1)    0                                            \n",
      "__________________________________________________________________________________________________\n",
      "img_rgb_smallsize (InputLayer)  (None, 32, 32, 3)    0                                            \n",
      "__________________________________________________________________________________________________\n",
      "conv11 (Conv2D)                 (None, 61, 61, 32)   544         img_gray_bigsize[0][0]           \n",
      "__________________________________________________________________________________________________\n",
      "conv21 (Conv2D)                 (None, 29, 29, 32)   1568        img_rgb_smallsize[0][0]          \n",
      "__________________________________________________________________________________________________\n",
      "pool11 (MaxPooling2D)           (None, 30, 30, 32)   0           conv11[0][0]                     \n",
      "__________________________________________________________________________________________________\n",
      "pool21 (MaxPooling2D)           (None, 14, 14, 32)   0           conv21[0][0]                     \n",
      "__________________________________________________________________________________________________\n",
      "conv12 (Conv2D)                 (None, 27, 27, 16)   8208        pool11[0][0]                     \n",
      "__________________________________________________________________________________________________\n",
      "conv22 (Conv2D)                 (None, 11, 11, 16)   8208        pool21[0][0]                     \n",
      "__________________________________________________________________________________________________\n",
      "pool12 (MaxPooling2D)           (None, 13, 13, 16)   0           conv12[0][0]                     \n",
      "__________________________________________________________________________________________________\n",
      "pool22 (MaxPooling2D)           (None, 5, 5, 16)     0           conv22[0][0]                     \n",
      "__________________________________________________________________________________________________\n",
      "flatten_9 (Flatten)             (None, 2704)         0           pool12[0][0]                     \n",
      "__________________________________________________________________________________________________\n",
      "flatten_10 (Flatten)            (None, 400)          0           pool22[0][0]                     \n",
      "__________________________________________________________________________________________________\n",
      "concatenate_5 (Concatenate)     (None, 3104)         0           flatten_9[0][0]                  \n",
      "                                                                 flatten_10[0][0]                 \n",
      "__________________________________________________________________________________________________\n",
      "hidden1 (Dense)                 (None, 128)          397440      concatenate_5[0][0]              \n",
      "__________________________________________________________________________________________________\n",
      "hidden2 (Dense)                 (None, 64)           8256        hidden1[0][0]                    \n",
      "__________________________________________________________________________________________________\n",
      "output (Dense)                  (None, 10)           650         hidden2[0][0]                    \n",
      "==================================================================================================\n",
      "Total params: 424,874\n",
      "Trainable params: 424,874\n",
      "Non-trainable params: 0\n",
      "__________________________________________________________________________________________________\n"
     ]
    },
    {
     "data": {
      "image/png": "[encoded data removed]",
      "text/plain": [
       "<IPython.core.display.Image object>"
      ]
     },
     "execution_count": 31,
     "metadata": {
      "tags": []
     },
     "output_type": "execute_result"
    }
   ],
   "source": [
    "img_gray_bigsize = Input(shape=(64, 64, 1), name='img_gray_bigsize')\n",
    "conv11 = Conv2D(32, kernel_size=4, activation='relu', name='conv11')(img_gray_bigsize)\n",
    "pool11 = MaxPool2D(pool_size=(2, 2), name='pool11')(conv11)\n",
    "conv12 = Conv2D(16, kernel_size=4, activation='relu', name='conv12')(pool11)\n",
    "pool12 = MaxPool2D(pool_size=(2, 2), name='pool12')(conv12)\n",
    "flat1 = Flatten()(pool12)\n",
    "\n",
    "img_rgb_smallsize = Input(shape=(32, 32, 3), name='img_rgb_smallsize')\n",
    "conv21 = Conv2D(32, kernel_size=4, activation='relu', name='conv21')(img_rgb_smallsize)\n",
    "pool21 = MaxPool2D(pool_size=(2, 2), name='pool21')(conv21)\n",
    "conv22 = Conv2D(16, kernel_size=4, activation='relu', name='conv22')(pool21)\n",
    "pool22 = MaxPool2D(pool_size=(2, 2), name='pool22')(conv22)\n",
    "flat2 = Flatten()(pool22)\n",
    "\n",
    "merge = concatenate([flat1, flat2])\n",
    "\n",
    "hidden1 = Dense(128, activation='relu', name='hidden1')(merge)\n",
    "hidden2 = Dense(64, activation='relu', name='hidden2')(hidden1)\n",
    "output = Dense(10, activation='softmax', name='output')(hidden2)\n",
    "\n",
    "model = Model(inputs=[img_gray_bigsize, img_rgb_smallsize], outputs=output)\n",
    "\n",
    "model.summary()\n",
    "\n",
    "plot_model(model, to_file='multiple_inputs.png')\n",
    "Image('multiple_inputs.png')"
   ]
  },
  {
   "cell_type": "code",
   "execution_count": 0,
   "metadata": {
    "colab": {},
    "colab_type": "code",
    "id": "JWK44eW3owwC"
   },
   "outputs": [],
   "source": []
  }
 ],
 "metadata": {
  "accelerator": "GPU",
  "colab": {
   "collapsed_sections": [],
   "name": "1-keras-functional-api.ipynb",
   "provenance": [],
   "version": "0.3.2"
  },
  "kernelspec": {
   "display_name": "Python 3",
   "language": "python",
   "name": "python3"
  },
  "language_info": {
   "codemirror_mode": {
    "name": "ipython",
    "version": 3
   },
   "file_extension": ".py",
   "mimetype": "text/x-python",
   "name": "python",
   "nbconvert_exporter": "python",
   "pygments_lexer": "ipython3",
   "version": "3.7.3"
  },
  "toc": {
   "base_numbering": 1,
   "nav_menu": {},
   "number_sections": true,
   "sideBar": true,
   "skip_h1_title": false,
   "title_cell": "Table of Contents",
   "title_sidebar": "Contents",
   "toc_cell": false,
   "toc_position": {
    "height": "calc(100% - 180px)",
    "left": "10px",
    "top": "150px",
    "width": "165px"
   },
   "toc_section_display": true,
   "toc_window_display": true
  }
 },
 "nbformat": 4,
 "nbformat_minor": 1
}
